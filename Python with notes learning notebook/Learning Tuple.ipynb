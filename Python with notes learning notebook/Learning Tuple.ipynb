{
 "cells": [
  {
   "cell_type": "markdown",
   "id": "bfdedc7e",
   "metadata": {},
   "source": [
    "A tuple in Python is similar to a list. The difference between the two is that we cannot change the elements of a tuple once it is assigned whereas we can change the elements of a list."
   ]
  },
  {
   "cell_type": "markdown",
   "id": "f525a26c",
   "metadata": {},
   "source": [
    "### Creating tuple"
   ]
  },
  {
   "cell_type": "markdown",
   "id": "8fe1fe39",
   "metadata": {},
   "source": [
    "Empty tuple"
   ]
  },
  {
   "cell_type": "code",
   "execution_count": 1,
   "id": "0afc9371",
   "metadata": {},
   "outputs": [
    {
     "name": "stdout",
     "output_type": "stream",
     "text": [
      "()\n"
     ]
    }
   ],
   "source": [
    "tuple1=()\n",
    "print(tuple1)"
   ]
  },
  {
   "cell_type": "markdown",
   "id": "87d95b69",
   "metadata": {},
   "source": [
    "Tuple of integers"
   ]
  },
  {
   "cell_type": "code",
   "execution_count": 2,
   "id": "bfed2b1c",
   "metadata": {},
   "outputs": [
    {
     "name": "stdout",
     "output_type": "stream",
     "text": [
      "(1, 2, 3, 4, 4)\n"
     ]
    }
   ],
   "source": [
    "tuple1=(1,2,3,4,4)\n",
    "print(tuple1)"
   ]
  },
  {
   "cell_type": "markdown",
   "id": "dfc931e5",
   "metadata": {},
   "source": [
    "Tuple with mixed datatype"
   ]
  },
  {
   "cell_type": "code",
   "execution_count": 9,
   "id": "28072c66",
   "metadata": {},
   "outputs": [
    {
     "name": "stdout",
     "output_type": "stream",
     "text": [
      "(1, 2, 7, 'Shivam', (2+3j), 4.0)\n"
     ]
    }
   ],
   "source": [
    "tuple1=(1,2,7,'Shivam',2+3j,4.0)\n",
    "print(tuple1)"
   ]
  },
  {
   "cell_type": "markdown",
   "id": "54638a15",
   "metadata": {},
   "source": [
    "Nested tuple"
   ]
  },
  {
   "cell_type": "code",
   "execution_count": 4,
   "id": "a0b3eb8b",
   "metadata": {},
   "outputs": [
    {
     "name": "stdout",
     "output_type": "stream",
     "text": [
      "(1, 2, 76, (2, 4, 6, 87), ['hi', 'hello', 'ab'], 'kaam', 'ki', 'baat', (2+3j))\n"
     ]
    }
   ],
   "source": [
    "tuple1=(1,2,76,(2,4,6,87),['hi','hello','ab'],'kaam','ki','baat',2+3j)\n",
    "print(tuple1)"
   ]
  },
  {
   "cell_type": "markdown",
   "id": "8096f924",
   "metadata": {},
   "source": [
    "Creating Tuple without parentheses"
   ]
  },
  {
   "cell_type": "code",
   "execution_count": 8,
   "id": "ec27ddde",
   "metadata": {},
   "outputs": [
    {
     "name": "stdout",
     "output_type": "stream",
     "text": [
      "('hi', 'hello', 2)\n",
      "hi\n",
      "hello\n",
      "2\n"
     ]
    },
    {
     "ename": "ValueError",
     "evalue": "not enough values to unpack (expected 4, got 3)",
     "output_type": "error",
     "traceback": [
      "\u001b[1;31m---------------------------------------------------------------------------\u001b[0m",
      "\u001b[1;31mValueError\u001b[0m                                Traceback (most recent call last)",
      "Input \u001b[1;32mIn [8]\u001b[0m, in \u001b[0;36m<cell line: 10>\u001b[1;34m()\u001b[0m\n\u001b[0;32m      7\u001b[0m \u001b[38;5;28mprint\u001b[39m(b)\n\u001b[0;32m      8\u001b[0m \u001b[38;5;28mprint\u001b[39m(c)\n\u001b[1;32m---> 10\u001b[0m a,b,c,d\u001b[38;5;241m=\u001b[39mtuple1\n\u001b[0;32m     11\u001b[0m \u001b[38;5;28mprint\u001b[39m(a)\n\u001b[0;32m     12\u001b[0m \u001b[38;5;28mprint\u001b[39m(b)\n",
      "\u001b[1;31mValueError\u001b[0m: not enough values to unpack (expected 4, got 3)"
     ]
    }
   ],
   "source": [
    "tuple1= 'hi','hello',2\n",
    "print(tuple1)\n",
    "# this is known as tuple packing\n",
    "\n",
    "a,b,c=tuple1\n",
    "print(a)\n",
    "print(b)\n",
    "print(c)\n",
    "\n",
    "a,b,c,d=tuple1\n",
    "print(a)\n",
    "print(b)\n",
    "print(c)\n",
    "print(d)\n",
    "\n",
    "# this is knowmn as tuple unpacking"
   ]
  }
 ],
 "metadata": {
  "kernelspec": {
   "display_name": "Python 3 (ipykernel)",
   "language": "python",
   "name": "python3"
  },
  "language_info": {
   "codemirror_mode": {
    "name": "ipython",
    "version": 3
   },
   "file_extension": ".py",
   "mimetype": "text/x-python",
   "name": "python",
   "nbconvert_exporter": "python",
   "pygments_lexer": "ipython3",
   "version": "3.9.12"
  }
 },
 "nbformat": 4,
 "nbformat_minor": 5
}
