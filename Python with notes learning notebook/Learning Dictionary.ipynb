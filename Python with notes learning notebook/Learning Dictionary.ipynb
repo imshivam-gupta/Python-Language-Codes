{
 "cells": [
  {
   "cell_type": "markdown",
   "id": "113ecf63",
   "metadata": {},
   "source": [
    "# Creating dictionary"
   ]
  },
  {
   "cell_type": "markdown",
   "id": "877c4785",
   "metadata": {},
   "source": [
    "###### Creating Empty Dictionary"
   ]
  },
  {
   "cell_type": "code",
   "execution_count": 1,
   "id": "7adffe7e",
   "metadata": {},
   "outputs": [
    {
     "name": "stdout",
     "output_type": "stream",
     "text": [
      "{}\n"
     ]
    }
   ],
   "source": [
    "dic = {}\n",
    "print(dic)"
   ]
  },
  {
   "cell_type": "markdown",
   "id": "28c2b3a7",
   "metadata": {},
   "source": [
    "###### Creating dictionary with integer keys"
   ]
  },
  {
   "cell_type": "code",
   "execution_count": 2,
   "id": "6a00d62a",
   "metadata": {},
   "outputs": [
    {
     "name": "stdout",
     "output_type": "stream",
     "text": [
      "{1: 'apple', 2: 'ball'}\n"
     ]
    }
   ],
   "source": [
    "dic = {1: 'apple', 2: 'ball'}\n",
    "print(dic)"
   ]
  },
  {
   "cell_type": "markdown",
   "id": "172cd61c",
   "metadata": {},
   "source": [
    "###### Creating dictionary with mixed keys"
   ]
  },
  {
   "cell_type": "code",
   "execution_count": 4,
   "id": "148d776a",
   "metadata": {},
   "outputs": [
    {
     "name": "stdout",
     "output_type": "stream",
     "text": [
      "{'name': 'Shivam', 1: 'Gupta'}\n"
     ]
    }
   ],
   "source": [
    "dic = {'name': 'Shivam' , 1: 'Gupta' }\n",
    "print(dic)"
   ]
  },
  {
   "cell_type": "markdown",
   "id": "9c6f4796",
   "metadata": {},
   "source": [
    "###### Using dict()"
   ]
  },
  {
   "cell_type": "code",
   "execution_count": 5,
   "id": "c0de0b00",
   "metadata": {},
   "outputs": [
    {
     "name": "stdout",
     "output_type": "stream",
     "text": [
      "{1: 'apple', 2: 'ball'}\n"
     ]
    }
   ],
   "source": [
    "dic = dict({1:'apple',2:'ball'})\n",
    "print(dic)"
   ]
  },
  {
   "cell_type": "markdown",
   "id": "4e7142ab",
   "metadata": {},
   "source": [
    "###### Using dict() function with sequence having each item as pair"
   ]
  },
  {
   "cell_type": "code",
   "execution_count": 6,
   "id": "3e6471ac",
   "metadata": {},
   "outputs": [
    {
     "name": "stdout",
     "output_type": "stream",
     "text": [
      "{1: 'apple', 2: 'ball'}\n",
      "<class 'dict'>\n"
     ]
    }
   ],
   "source": [
    "dic = dict([(1,'apple'), (2,'ball')])\n",
    "\n",
    "print(dic)\n",
    "print(type(dic))"
   ]
  },
  {
   "cell_type": "markdown",
   "id": "a7a1acea",
   "metadata": {},
   "source": [
    "# Accessing Elements"
   ]
  },
  {
   "cell_type": "code",
   "execution_count": 11,
   "id": "5421ff6e",
   "metadata": {},
   "outputs": [
    {
     "name": "stdout",
     "output_type": "stream",
     "text": [
      "Shivam\n",
      "Shivam\n",
      "\n",
      "Gupta\n",
      "Gupta\n"
     ]
    },
    {
     "ename": "NameError",
     "evalue": "name 'add' is not defined",
     "output_type": "error",
     "traceback": [
      "\u001b[1;31m---------------------------------------------------------------------------\u001b[0m",
      "\u001b[1;31mNameError\u001b[0m                                 Traceback (most recent call last)",
      "Input \u001b[1;32mIn [11]\u001b[0m, in \u001b[0;36m<cell line: 11>\u001b[1;34m()\u001b[0m\n\u001b[0;32m      8\u001b[0m \u001b[38;5;28mprint\u001b[39m(dic[\u001b[38;5;241m1\u001b[39m])\n\u001b[0;32m      9\u001b[0m \u001b[38;5;28mprint\u001b[39m(dic\u001b[38;5;241m.\u001b[39mget(\u001b[38;5;241m1\u001b[39m))\n\u001b[1;32m---> 11\u001b[0m \u001b[38;5;28mprint\u001b[39m(dic\u001b[38;5;241m.\u001b[39mget(\u001b[43madd\u001b[49m))\n",
      "\u001b[1;31mNameError\u001b[0m: name 'add' is not defined"
     ]
    }
   ],
   "source": [
    "dic = {'name': 'Shivam' , 1: 'Gupta' }\n",
    "\n",
    "print(dic['name'])\n",
    "print(dic.get('name'))\n",
    "\n",
    "print()\n",
    "\n",
    "print(dic[1])\n",
    "print(dic.get(1))\n",
    "\n",
    "# Name Error\n",
    "print(dic.get(add))"
   ]
  },
  {
   "cell_type": "code",
   "execution_count": 15,
   "id": "11209735",
   "metadata": {},
   "outputs": [
    {
     "ename": "KeyError",
     "evalue": "0",
     "output_type": "error",
     "traceback": [
      "\u001b[1;31m---------------------------------------------------------------------------\u001b[0m",
      "\u001b[1;31mKeyError\u001b[0m                                  Traceback (most recent call last)",
      "Input \u001b[1;32mIn [15]\u001b[0m, in \u001b[0;36m<cell line: 4>\u001b[1;34m()\u001b[0m\n\u001b[0;32m      1\u001b[0m dic \u001b[38;5;241m=\u001b[39m {\u001b[38;5;124m'\u001b[39m\u001b[38;5;124mname\u001b[39m\u001b[38;5;124m'\u001b[39m: \u001b[38;5;124m'\u001b[39m\u001b[38;5;124mShivam\u001b[39m\u001b[38;5;124m'\u001b[39m , \u001b[38;5;241m1\u001b[39m: \u001b[38;5;124m'\u001b[39m\u001b[38;5;124mGupta\u001b[39m\u001b[38;5;124m'\u001b[39m }\n\u001b[0;32m      3\u001b[0m \u001b[38;5;66;03m# Key Error\u001b[39;00m\n\u001b[1;32m----> 4\u001b[0m \u001b[38;5;28mprint\u001b[39m(\u001b[43mdic\u001b[49m\u001b[43m[\u001b[49m\u001b[38;5;241;43m0\u001b[39;49m\u001b[43m]\u001b[49m)\n",
      "\u001b[1;31mKeyError\u001b[0m: 0"
     ]
    }
   ],
   "source": [
    "dic = {'name': 'Shivam' , 1: 'Gupta' }\n",
    "\n",
    "# Key Error\n",
    "print(dic[0])"
   ]
  },
  {
   "cell_type": "markdown",
   "id": "1fbdd702",
   "metadata": {},
   "source": [
    "# Changing and Adding Elements"
   ]
  },
  {
   "cell_type": "markdown",
   "id": "9083fb69",
   "metadata": {},
   "source": [
    "Dictionaries are mutable. We can add new items or change values of existing items using an assignment operator. If key is present value gets upddated otherwise key: value pair is added"
   ]
  },
  {
   "cell_type": "code",
   "execution_count": 16,
   "id": "9ff82f6f",
   "metadata": {},
   "outputs": [
    {
     "name": "stdout",
     "output_type": "stream",
     "text": [
      "{'name': 'Shivam', 1: '-'}\n",
      "{'name': 'Shivam', 1: '-', 8: 'Gupta'}\n"
     ]
    }
   ],
   "source": [
    "dic = {'name': 'Shivam' , 1: 'Gupta' }\n",
    "\n",
    "dic[1]='-'\n",
    "print(dic)\n",
    "\n",
    "dic[8]='Gupta'\n",
    "print(dic)"
   ]
  },
  {
   "cell_type": "markdown",
   "id": "20b92f79",
   "metadata": {},
   "source": [
    "# Removing Elements"
   ]
  },
  {
   "cell_type": "code",
   "execution_count": null,
   "id": "2e7fc862",
   "metadata": {},
   "outputs": [],
   "source": []
  }
 ],
 "metadata": {
  "kernelspec": {
   "display_name": "Python 3 (ipykernel)",
   "language": "python",
   "name": "python3"
  },
  "language_info": {
   "codemirror_mode": {
    "name": "ipython",
    "version": 3
   },
   "file_extension": ".py",
   "mimetype": "text/x-python",
   "name": "python",
   "nbconvert_exporter": "python",
   "pygments_lexer": "ipython3",
   "version": "3.9.12"
  }
 },
 "nbformat": 4,
 "nbformat_minor": 5
}
