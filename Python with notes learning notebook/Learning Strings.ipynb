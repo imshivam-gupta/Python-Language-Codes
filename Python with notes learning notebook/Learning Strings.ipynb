{
 "cells": [
  {
   "cell_type": "markdown",
   "id": "2c9f540c",
   "metadata": {},
   "source": [
    "In Python, a string is a sequence of Unicode characters. Unicode was introduced to include every character in all languages \n",
    "and bring uniformity in encoding. "
   ]
  },
  {
   "cell_type": "code",
   "execution_count": 4,
   "id": "0cfa3fe6",
   "metadata": {},
   "outputs": [
    {
     "name": "stdout",
     "output_type": "stream",
     "text": [
      "Hello\n",
      "Hello\n",
      "Hello\n",
      "Hello \n",
      "  Welcome to programming\n"
     ]
    }
   ],
   "source": [
    "st='Hello'\n",
    "print(st)\n",
    "\n",
    "st=\"Hello\"\n",
    "print(st)\n",
    "\n",
    "st='''Hello'''\n",
    "print(st)\n",
    "\n",
    "st='''Hello \n",
    "  Welcome to programming'''\n",
    "print(st)"
   ]
  },
  {
   "cell_type": "code",
   "execution_count": null,
   "id": "3481cd17",
   "metadata": {},
   "outputs": [],
   "source": []
  }
 ],
 "metadata": {
  "kernelspec": {
   "display_name": "Python 3 (ipykernel)",
   "language": "python",
   "name": "python3"
  },
  "language_info": {
   "codemirror_mode": {
    "name": "ipython",
    "version": 3
   },
   "file_extension": ".py",
   "mimetype": "text/x-python",
   "name": "python",
   "nbconvert_exporter": "python",
   "pygments_lexer": "ipython3",
   "version": "3.9.12"
  }
 },
 "nbformat": 4,
 "nbformat_minor": 5
}
