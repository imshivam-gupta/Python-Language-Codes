{
 "cells": [
  {
   "cell_type": "markdown",
   "id": "e76741db",
   "metadata": {},
   "source": [
    "\n",
    "# Creating Python Lists\n"
   ]
  },
  {
   "cell_type": "markdown",
   "id": "c2435c2e",
   "metadata": {},
   "source": [
    "###  Empty List\n"
   ]
  },
  {
   "cell_type": "code",
   "execution_count": 2,
   "id": "b5fa8c3d",
   "metadata": {},
   "outputs": [
    {
     "name": "stdout",
     "output_type": "stream",
     "text": [
      "[]\n"
     ]
    }
   ],
   "source": [
    "list=[]\n",
    "print(list)"
   ]
  },
  {
   "cell_type": "markdown",
   "id": "7d3fe679",
   "metadata": {},
   "source": [
    "### List of Integers\n"
   ]
  },
  {
   "cell_type": "code",
   "execution_count": 1,
   "id": "5aab39cf",
   "metadata": {},
   "outputs": [
    {
     "name": "stdout",
     "output_type": "stream",
     "text": [
      "[1, 2, 3]\n"
     ]
    }
   ],
   "source": [
    "list=[1,2,3]\n",
    "print(list)"
   ]
  },
  {
   "cell_type": "markdown",
   "id": "ab47ed76",
   "metadata": {},
   "source": [
    "### List with mixed data-types\n"
   ]
  },
  {
   "cell_type": "code",
   "execution_count": 1,
   "id": "25c675c1",
   "metadata": {},
   "outputs": [
    {
     "name": "stdout",
     "output_type": "stream",
     "text": [
      "[1, 'Hello', 3.0, [2, 4, 6]]\n"
     ]
    }
   ],
   "source": [
    "list=[1,\"Hello\",3.0,[2,4,6]]\n",
    "print(list)"
   ]
  },
  {
   "cell_type": "markdown",
   "id": "e3bdcd07",
   "metadata": {},
   "source": [
    "### Accessing List Elements"
   ]
  },
  {
   "cell_type": "code",
   "execution_count": 2,
   "id": "4ca77d15",
   "metadata": {},
   "outputs": [
    {
     "name": "stdout",
     "output_type": "stream",
     "text": [
      "1\n",
      "Hello\n",
      "3.0\n",
      "[2, 4, 6]\n"
     ]
    }
   ],
   "source": [
    "print(list[0])\n",
    "print(list[1])\n",
    "print(list[2])\n",
    "print(list[3])"
   ]
  },
  {
   "cell_type": "markdown",
   "id": "17dfc92f",
   "metadata": {},
   "source": [
    "### Accessing Nested List Elements"
   ]
  },
  {
   "cell_type": "code",
   "execution_count": 3,
   "id": "b29d3a3a",
   "metadata": {},
   "outputs": [
    {
     "name": "stdout",
     "output_type": "stream",
     "text": [
      "2\n",
      "4\n",
      "6\n"
     ]
    }
   ],
   "source": [
    "print(list[3][0])\n",
    "print(list[3][1])\n",
    "print(list[3][2])"
   ]
  },
  {
   "cell_type": "markdown",
   "id": "4ea99396",
   "metadata": {},
   "source": [
    "### Accessing List Elements with index greater than max"
   ]
  },
  {
   "cell_type": "code",
   "execution_count": 4,
   "id": "3543873c",
   "metadata": {},
   "outputs": [
    {
     "ename": "IndexError",
     "evalue": "list index out of range",
     "output_type": "error",
     "traceback": [
      "\u001b[1;31m---------------------------------------------------------------------------\u001b[0m",
      "\u001b[1;31mIndexError\u001b[0m                                Traceback (most recent call last)",
      "Input \u001b[1;32mIn [4]\u001b[0m, in \u001b[0;36m<cell line: 1>\u001b[1;34m()\u001b[0m\n\u001b[1;32m----> 1\u001b[0m \u001b[38;5;28mprint\u001b[39m(\u001b[38;5;28;43mlist\u001b[39;49m\u001b[43m[\u001b[49m\u001b[38;5;241;43m4\u001b[39;49m\u001b[43m]\u001b[49m)\n",
      "\u001b[1;31mIndexError\u001b[0m: list index out of range"
     ]
    }
   ],
   "source": [
    "print(list[4])"
   ]
  },
  {
   "cell_type": "markdown",
   "id": "e823f509",
   "metadata": {},
   "source": [
    "### Using Negative Indexes to access elements"
   ]
  },
  {
   "cell_type": "code",
   "execution_count": 5,
   "id": "714adbf6",
   "metadata": {},
   "outputs": [
    {
     "name": "stdout",
     "output_type": "stream",
     "text": [
      "[2, 4, 6]\n",
      "3.0\n",
      "Hello\n",
      "1\n"
     ]
    }
   ],
   "source": [
    "print(list[-1])\n",
    "print(list[-2])\n",
    "print(list[-3])\n",
    "print(list[-4])"
   ]
  },
  {
   "cell_type": "markdown",
   "id": "3ade8f18",
   "metadata": {},
   "source": [
    "### Getting out of bound exception using negative index"
   ]
  },
  {
   "cell_type": "code",
   "execution_count": 6,
   "id": "f0915a86",
   "metadata": {},
   "outputs": [
    {
     "ename": "IndexError",
     "evalue": "list index out of range",
     "output_type": "error",
     "traceback": [
      "\u001b[1;31m---------------------------------------------------------------------------\u001b[0m",
      "\u001b[1;31mIndexError\u001b[0m                                Traceback (most recent call last)",
      "Input \u001b[1;32mIn [6]\u001b[0m, in \u001b[0;36m<cell line: 1>\u001b[1;34m()\u001b[0m\n\u001b[1;32m----> 1\u001b[0m \u001b[38;5;28mprint\u001b[39m(\u001b[38;5;28;43mlist\u001b[39;49m\u001b[43m[\u001b[49m\u001b[38;5;241;43m-\u001b[39;49m\u001b[38;5;241;43m5\u001b[39;49m\u001b[43m]\u001b[49m)\n",
      "\u001b[1;31mIndexError\u001b[0m: list index out of range"
     ]
    }
   ],
   "source": [
    "print(list[-5])"
   ]
  },
  {
   "cell_type": "markdown",
   "id": "0c9fd8a8",
   "metadata": {},
   "source": [
    "### Using List Slicing"
   ]
  },
  {
   "cell_type": "code",
   "execution_count": 11,
   "id": "58c0ccc5",
   "metadata": {},
   "outputs": [
    {
     "name": "stdout",
     "output_type": "stream",
     "text": [
      "['t', 'h', 'o']\n",
      "['n', 1]\n",
      "['p', 'y']\n",
      "['p', 'y', 't', 'h', 'o', 'n', 1]\n"
     ]
    }
   ],
   "source": [
    "list=['p','y','t','h','o','n',1]\n",
    "\n",
    "print(list[2:5])\n",
    "# note in output that index 5 is exclusive for the range specified in slice argument\n",
    "\n",
    "print(list[5:])\n",
    "# if 2nd index is not specified the iterator moves automatically tll the end of list\n",
    "\n",
    "print(list[:2])\n",
    "# similarly if 1st index is not specified the iterator assumes the starting index from the starting of list\n",
    "\n",
    "print(list[:])\n",
    "# both not specified 😁"
   ]
  },
  {
   "cell_type": "markdown",
   "id": "995409c6",
   "metadata": {},
   "source": [
    "### Using negative indexing in slicing operator "
   ]
  },
  {
   "cell_type": "code",
   "execution_count": 13,
   "id": "efcefb63",
   "metadata": {},
   "outputs": [
    {
     "name": "stdout",
     "output_type": "stream",
     "text": [
      "['t', 'h', 'o', 'n']\n",
      "['h', 'o', 'n']\n",
      "['p', 'y', 't', 'h', 'o', 'n']\n",
      "[1]\n"
     ]
    }
   ],
   "source": [
    "print(list[2:-1])\n",
    "print(list[-4:-1])\n",
    "print(list[:-1])\n",
    "print(list[-1:])"
   ]
  },
  {
   "cell_type": "markdown",
   "id": "481280e0",
   "metadata": {},
   "source": [
    "### Reversing the list using slicing operator"
   ]
  },
  {
   "cell_type": "code",
   "execution_count": 1,
   "id": "e0665f6e",
   "metadata": {},
   "outputs": [
    {
     "name": "stdout",
     "output_type": "stream",
     "text": [
      "[1, 'n', 'o', 'h', 't', 'y', 'p']\n",
      "['p', 'y', 't', 'h', 'o', 'n', 1]\n",
      "['p', 't', 'o', 1]\n"
     ]
    }
   ],
   "source": [
    "list=['p','y','t','h','o','n',1]\n",
    "\n",
    "print(list[::-1])\n",
    "# its same as list[:] additional ':-1' specifies that the whole list is to be taken in reverse order\n",
    "\n",
    "print(list[::1])\n",
    "\n",
    "print(list[::2])\n",
    "\n",
    "# therefore the additional :n used here n specifies the step parameter -1 specifies reverse order 1 specifies forward "
   ]
  },
  {
   "cell_type": "markdown",
   "id": "3d6203bd",
   "metadata": {},
   "source": [
    "### Adding elements to list"
   ]
  },
  {
   "cell_type": "code",
   "execution_count": 20,
   "id": "b1754ddc",
   "metadata": {},
   "outputs": [
    {
     "name": "stdout",
     "output_type": "stream",
     "text": [
      "['p', 'y', 't', 'h', 'o', 'n', 1, 'Shivam']\n",
      "['p', 'y', 't', 'h', 'o', 'n', 1, 'Shivam', 'Python', 'is', 'best']\n",
      "['p', 'y', 't', 'h', 'o', 'n', 1, 'Shivam', 'Python', 'is', 'best', ['Python', 'is', 'best']]\n",
      "['p', 'y', 'i inserted it', 't', 'h', 'o', 'n', 1, 'Shivam', 'Python', 'is', 'best', ['Python', 'is', 'best']]\n",
      "['p', 'y', 'i inserted it using other way', 'i inserted it', 't', 'h', 'o', 'n', 1, 'Shivam', 'Python', 'is', 'best', ['Python', 'is', 'best']]\n"
     ]
    }
   ],
   "source": [
    "list=['p','y','t','h','o','n',1]\n",
    "\n",
    "list.append('Shivam')\n",
    "print(list)\n",
    "\n",
    "# append is used to append specified element at the end of list it returns None\n",
    "\n",
    "list.extend(['Python', 'is', 'best'])\n",
    "print(list)\n",
    "\n",
    "# extend is used to append multiple elements of a list at the end of list it returns the element popped\n",
    "\n",
    "list.append(['Python', 'is', 'best'])\n",
    "print(list)\n",
    "\n",
    "\n",
    "# insert is used to add element at required position\n",
    "list.insert(2,'i inserted it')\n",
    "print(list)\n",
    "\n",
    "\n",
    "# other way\n",
    "list[2:2]=['i inserted it using other way']\n",
    "print(list)"
   ]
  },
  {
   "cell_type": "markdown",
   "id": "4d145e69",
   "metadata": {},
   "source": [
    "### Joining and combining Strings"
   ]
  },
  {
   "cell_type": "code",
   "execution_count": 16,
   "id": "ed843160",
   "metadata": {},
   "outputs": [
    {
     "name": "stdout",
     "output_type": "stream",
     "text": [
      "['p', 'y', 't', 'h', 'o', 'n', 1, 'Python', 'is', 'best']\n",
      "['Python', 'is', 'best', 'Python', 'is', 'best', 'Python', 'is', 'best']\n",
      "['p', 'y', 't', 'h', 'o', 'n', 1, 'p', 'y', 't', 'h', 'o', 'n', 1]\n"
     ]
    }
   ],
   "source": [
    "list=['p','y','t','h','o','n',1]\n",
    "list2=['Python', 'is', 'best']\n",
    "\n",
    "# concatenation of lists\n",
    "print(list+list2)\n",
    "\n",
    "print(list2*3)\n",
    "\n",
    "print(list*2)"
   ]
  },
  {
   "cell_type": "markdown",
   "id": "31c83597",
   "metadata": {},
   "source": [
    "### Changing and modifying list elements"
   ]
  },
  {
   "cell_type": "code",
   "execution_count": 27,
   "id": "74c8c747",
   "metadata": {},
   "outputs": [
    {
     "name": "stdout",
     "output_type": "stream",
     "text": [
      "['h', 'y', 't', 'h', 'o', 'n', 1]\n",
      "['h', 'i', 'm', 'h', 'o', 'n', 1]\n",
      "['h', 'm', 'h', 'o', 'n', 1]\n",
      "['h', 'o', 'n', 1]\n"
     ]
    },
    {
     "ename": "NameError",
     "evalue": "name 'list1' is not defined",
     "output_type": "error",
     "traceback": [
      "\u001b[1;31m---------------------------------------------------------------------------\u001b[0m",
      "\u001b[1;31mNameError\u001b[0m                                 Traceback (most recent call last)",
      "Input \u001b[1;32mIn [27]\u001b[0m, in \u001b[0;36m<cell line: 16>\u001b[1;34m()\u001b[0m\n\u001b[0;32m     13\u001b[0m \u001b[38;5;28mprint\u001b[39m(list1)\n\u001b[0;32m     15\u001b[0m \u001b[38;5;28;01mdel\u001b[39;00m list1\n\u001b[1;32m---> 16\u001b[0m \u001b[38;5;28mprint\u001b[39m(\u001b[43mlist1\u001b[49m)\n",
      "\u001b[1;31mNameError\u001b[0m: name 'list1' is not defined"
     ]
    }
   ],
   "source": [
    "list1=['p','y','t','h','o','n',1]\n",
    "\n",
    "list1[0]='h'\n",
    "print(list1)\n",
    "\n",
    "list1[1:3]=['i','m']\n",
    "print(list1)\n",
    "\n",
    "del list1[1]\n",
    "print(list1)\n",
    "\n",
    "del list1[1:3]\n",
    "print(list1)\n",
    "\n",
    "del list1\n",
    "print(list1)"
   ]
  },
  {
   "cell_type": "markdown",
   "id": "6cc767af",
   "metadata": {},
   "source": [
    "### Remove, Pop and Clear functions"
   ]
  },
  {
   "cell_type": "code",
   "execution_count": 36,
   "id": "1d90c733",
   "metadata": {},
   "outputs": [
    {
     "name": "stdout",
     "output_type": "stream",
     "text": [
      "['p', 't', 'h', 'o', 'n', 'y', 1]\n",
      "['p', 'h', 'o', 'n', 'y', 1]\n",
      "h\n",
      "['p', 'o', 'n', 'y', 1]\n",
      "None\n",
      "['p', 'n', 'y', 1]\n",
      "['p', 'n', 'y']\n",
      "[]\n",
      "['p', 'h', 'o', 'n', 'y', 1]\n"
     ]
    }
   ],
   "source": [
    "list1=['p','y','t','h','o','n','y',1]\n",
    "\n",
    "# remove is used to remove the specified element \n",
    "# when 2 same elements are present and that item is used inside remove function element with lower index is removed from list\n",
    "\n",
    "list1.remove('y')\n",
    "print(list1)\n",
    "\n",
    "\n",
    "# pop is used to remove the element at specified index if index is not specifed element at end of lost is popped\n",
    "\n",
    "list1.pop(1)\n",
    "print(list1)\n",
    "\n",
    "a=list1.pop(1)\n",
    "print(a)\n",
    "print(list1)\n",
    "\n",
    "# remove does not retrun any value\n",
    "b=list1.remove('o')\n",
    "print(b)\n",
    "print(list1)\n",
    "\n",
    "# using pop without index\n",
    "list1.pop()\n",
    "print(list1)\n",
    "\n",
    "# clear() method is used to empty whole list\n",
    "list1.clear()\n",
    "print(list1)\n",
    "\n",
    "# deleting elemnts using adding empty list\n",
    "list1=['p','y','t','h','o','n','y',1]\n",
    "list1[1:3]=[]\n",
    "print(list1)"
   ]
  },
  {
   "cell_type": "markdown",
   "id": "ce351308",
   "metadata": {},
   "source": [
    "### index() function, count() function, reverse() function, copy() function, sort() function "
   ]
  },
  {
   "cell_type": "markdown",
   "id": "b2f46915",
   "metadata": {},
   "source": [
    "index() function"
   ]
  },
  {
   "cell_type": "code",
   "execution_count": 45,
   "id": "b0f48b90",
   "metadata": {
    "scrolled": true
   },
   "outputs": [
    {
     "name": "stdout",
     "output_type": "stream",
     "text": [
      "1\n",
      "6\n",
      "6\n"
     ]
    },
    {
     "ename": "ValueError",
     "evalue": "'y' is not in list",
     "output_type": "error",
     "traceback": [
      "\u001b[1;31m---------------------------------------------------------------------------\u001b[0m",
      "\u001b[1;31mValueError\u001b[0m                                Traceback (most recent call last)",
      "Input \u001b[1;32mIn [45]\u001b[0m, in \u001b[0;36m<cell line: 14>\u001b[1;34m()\u001b[0m\n\u001b[0;32m     10\u001b[0m \u001b[38;5;28mprint\u001b[39m(list1\u001b[38;5;241m.\u001b[39mindex(\u001b[38;5;124m'\u001b[39m\u001b[38;5;124my\u001b[39m\u001b[38;5;124m'\u001b[39m,\u001b[38;5;241m2\u001b[39m,\u001b[38;5;241m7\u001b[39m))\n\u001b[0;32m     12\u001b[0m \u001b[38;5;66;03m# 1st parameter with start index specifies the end index till where the searching has to be done by default it is n+1 since it' exclusive\u001b[39;00m\n\u001b[1;32m---> 14\u001b[0m \u001b[38;5;28mprint\u001b[39m(\u001b[43mlist1\u001b[49m\u001b[38;5;241;43m.\u001b[39;49m\u001b[43mindex\u001b[49m\u001b[43m(\u001b[49m\u001b[38;5;124;43m'\u001b[39;49m\u001b[38;5;124;43my\u001b[39;49m\u001b[38;5;124;43m'\u001b[39;49m\u001b[43m,\u001b[49m\u001b[38;5;241;43m2\u001b[39;49m\u001b[43m,\u001b[49m\u001b[38;5;241;43m6\u001b[39;49m\u001b[43m)\u001b[49m)\n",
      "\u001b[1;31mValueError\u001b[0m: 'y' is not in list"
     ]
    }
   ],
   "source": [
    "list1=['p','y','t','h','o','n','y',1]\n",
    "\n",
    "print(list1.index('y'))\n",
    "# it returns index when 1st element matches\n",
    "\n",
    "print(list1.index('y',2))\n",
    "\n",
    "# 1st parameter with elements specifies the start index from where the searching has to be started by default it is 0\n",
    "\n",
    "print(list1.index('y',2,7))\n",
    "\n",
    "# 1st parameter with start index specifies the end index till where the searching has to be done by default it is n+1 since it' exclusive\n",
    "\n",
    "print(list1.index('y',2,6))\n",
    "\n",
    "# it throws value errror if element is not found in list"
   ]
  },
  {
   "cell_type": "markdown",
   "id": "87d468d4",
   "metadata": {},
   "source": [
    "count() function"
   ]
  },
  {
   "cell_type": "code",
   "execution_count": 1,
   "id": "f68a094d",
   "metadata": {},
   "outputs": [
    {
     "name": "stdout",
     "output_type": "stream",
     "text": [
      "2\n"
     ]
    }
   ],
   "source": [
    "list1=['p','y','t','h','o','n','y',1]\n",
    "\n",
    "print(list1.count('y'))\n",
    "# count takes input the element whose count has to be calculated and it retrun the count"
   ]
  }
 ],
 "metadata": {
  "kernelspec": {
   "display_name": "Python 3 (ipykernel)",
   "language": "python",
   "name": "python3"
  },
  "language_info": {
   "codemirror_mode": {
    "name": "ipython",
    "version": 3
   },
   "file_extension": ".py",
   "mimetype": "text/x-python",
   "name": "python",
   "nbconvert_exporter": "python",
   "pygments_lexer": "ipython3",
   "version": "3.9.12"
  }
 },
 "nbformat": 4,
 "nbformat_minor": 5
}
