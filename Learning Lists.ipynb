{
 "cells": [
  {
   "cell_type": "markdown",
   "id": "e76741db",
   "metadata": {},
   "source": [
    "\n",
    "# Creating Python Lists\n"
   ]
  },
  {
   "cell_type": "markdown",
   "id": "c2435c2e",
   "metadata": {},
   "source": [
    "###  Empty List\n"
   ]
  },
  {
   "cell_type": "code",
   "execution_count": 2,
   "id": "b5fa8c3d",
   "metadata": {},
   "outputs": [
    {
     "name": "stdout",
     "output_type": "stream",
     "text": [
      "[]\n"
     ]
    }
   ],
   "source": [
    "list=[]\n",
    "print(list)"
   ]
  },
  {
   "cell_type": "markdown",
   "id": "7d3fe679",
   "metadata": {},
   "source": [
    "### List of Integers\n"
   ]
  },
  {
   "cell_type": "code",
   "execution_count": 1,
   "id": "5aab39cf",
   "metadata": {},
   "outputs": [
    {
     "name": "stdout",
     "output_type": "stream",
     "text": [
      "[1, 2, 3]\n"
     ]
    }
   ],
   "source": [
    "list=[1,2,3]\n",
    "print(list)"
   ]
  },
  {
   "cell_type": "markdown",
   "id": "ab47ed76",
   "metadata": {},
   "source": [
    "### List with mixed data-types\n"
   ]
  },
  {
   "cell_type": "code",
   "execution_count": 1,
   "id": "25c675c1",
   "metadata": {},
   "outputs": [
    {
     "name": "stdout",
     "output_type": "stream",
     "text": [
      "[1, 'Hello', 3.0, [2, 4, 6]]\n"
     ]
    }
   ],
   "source": [
    "list=[1,\"Hello\",3.0,[2,4,6]]\n",
    "print(list)"
   ]
  },
  {
   "cell_type": "markdown",
   "id": "e3bdcd07",
   "metadata": {},
   "source": [
    "### Accessing List Elements"
   ]
  },
  {
   "cell_type": "code",
   "execution_count": 2,
   "id": "4ca77d15",
   "metadata": {},
   "outputs": [
    {
     "name": "stdout",
     "output_type": "stream",
     "text": [
      "1\n",
      "Hello\n",
      "3.0\n",
      "[2, 4, 6]\n"
     ]
    }
   ],
   "source": [
    "print(list[0])\n",
    "print(list[1])\n",
    "print(list[2])\n",
    "print(list[3])"
   ]
  },
  {
   "cell_type": "markdown",
   "id": "17dfc92f",
   "metadata": {},
   "source": [
    "### Accessing Nested List Elements"
   ]
  },
  {
   "cell_type": "code",
   "execution_count": 3,
   "id": "b29d3a3a",
   "metadata": {},
   "outputs": [
    {
     "name": "stdout",
     "output_type": "stream",
     "text": [
      "2\n",
      "4\n",
      "6\n"
     ]
    }
   ],
   "source": [
    "print(list[3][0])\n",
    "print(list[3][1])\n",
    "print(list[3][2])"
   ]
  },
  {
   "cell_type": "markdown",
   "id": "4ea99396",
   "metadata": {},
   "source": [
    "### Accessing List Elements with index greater than max"
   ]
  },
  {
   "cell_type": "code",
   "execution_count": 4,
   "id": "3543873c",
   "metadata": {},
   "outputs": [
    {
     "ename": "IndexError",
     "evalue": "list index out of range",
     "output_type": "error",
     "traceback": [
      "\u001b[1;31m---------------------------------------------------------------------------\u001b[0m",
      "\u001b[1;31mIndexError\u001b[0m                                Traceback (most recent call last)",
      "Input \u001b[1;32mIn [4]\u001b[0m, in \u001b[0;36m<cell line: 1>\u001b[1;34m()\u001b[0m\n\u001b[1;32m----> 1\u001b[0m \u001b[38;5;28mprint\u001b[39m(\u001b[38;5;28;43mlist\u001b[39;49m\u001b[43m[\u001b[49m\u001b[38;5;241;43m4\u001b[39;49m\u001b[43m]\u001b[49m)\n",
      "\u001b[1;31mIndexError\u001b[0m: list index out of range"
     ]
    }
   ],
   "source": [
    "print(list[4])"
   ]
  },
  {
   "cell_type": "markdown",
   "id": "e823f509",
   "metadata": {},
   "source": [
    "### Using Negative Indexes to access elements"
   ]
  },
  {
   "cell_type": "code",
   "execution_count": 5,
   "id": "714adbf6",
   "metadata": {},
   "outputs": [
    {
     "name": "stdout",
     "output_type": "stream",
     "text": [
      "[2, 4, 6]\n",
      "3.0\n",
      "Hello\n",
      "1\n"
     ]
    }
   ],
   "source": [
    "print(list[-1])\n",
    "print(list[-2])\n",
    "print(list[-3])\n",
    "print(list[-4])"
   ]
  },
  {
   "cell_type": "markdown",
   "id": "3ade8f18",
   "metadata": {},
   "source": [
    "### Getting out of bound exception using negative index"
   ]
  },
  {
   "cell_type": "code",
   "execution_count": 6,
   "id": "f0915a86",
   "metadata": {},
   "outputs": [
    {
     "ename": "IndexError",
     "evalue": "list index out of range",
     "output_type": "error",
     "traceback": [
      "\u001b[1;31m---------------------------------------------------------------------------\u001b[0m",
      "\u001b[1;31mIndexError\u001b[0m                                Traceback (most recent call last)",
      "Input \u001b[1;32mIn [6]\u001b[0m, in \u001b[0;36m<cell line: 1>\u001b[1;34m()\u001b[0m\n\u001b[1;32m----> 1\u001b[0m \u001b[38;5;28mprint\u001b[39m(\u001b[38;5;28;43mlist\u001b[39;49m\u001b[43m[\u001b[49m\u001b[38;5;241;43m-\u001b[39;49m\u001b[38;5;241;43m5\u001b[39;49m\u001b[43m]\u001b[49m)\n",
      "\u001b[1;31mIndexError\u001b[0m: list index out of range"
     ]
    }
   ],
   "source": [
    "print(list[-5])"
   ]
  },
  {
   "cell_type": "markdown",
   "id": "0c9fd8a8",
   "metadata": {},
   "source": [
    "### Using List Slicing"
   ]
  },
  {
   "cell_type": "code",
   "execution_count": 11,
   "id": "58c0ccc5",
   "metadata": {},
   "outputs": [
    {
     "name": "stdout",
     "output_type": "stream",
     "text": [
      "['t', 'h', 'o']\n",
      "['n', 1]\n",
      "['p', 'y']\n",
      "['p', 'y', 't', 'h', 'o', 'n', 1]\n"
     ]
    }
   ],
   "source": [
    "list=['p','y','t','h','o','n',1]\n",
    "\n",
    "print(list[2:5])\n",
    "# note in output that index 5 is exclusive for the range specified in slice argument\n",
    "\n",
    "print(list[5:])\n",
    "# if 2nd index is not specified the iterator moves automatically tll the end of list\n",
    "\n",
    "print(list[:2])\n",
    "# similarly if 1st index is not specified the iterator assumes the starting index from the starting of list\n",
    "\n",
    "print(list[:])\n",
    "# both not specified 😁"
   ]
  },
  {
   "cell_type": "markdown",
   "id": "995409c6",
   "metadata": {},
   "source": [
    "### Using negative indexing in slicing operator "
   ]
  },
  {
   "cell_type": "code",
   "execution_count": 13,
   "id": "efcefb63",
   "metadata": {},
   "outputs": [
    {
     "name": "stdout",
     "output_type": "stream",
     "text": [
      "['t', 'h', 'o', 'n']\n",
      "['h', 'o', 'n']\n",
      "['p', 'y', 't', 'h', 'o', 'n']\n",
      "[1]\n"
     ]
    }
   ],
   "source": [
    "print(list[2:-1])\n",
    "print(list[-4:-1])\n",
    "print(list[:-1])\n",
    "print(list[-1:])"
   ]
  },
  {
   "cell_type": "markdown",
   "id": "7aee0f7c",
   "metadata": {},
   "source": [
    "### Reversing the list using slicing operator"
   ]
  },
  {
   "cell_type": "code",
   "execution_count": 1,
   "id": "b62fd29e",
   "metadata": {},
   "outputs": [
    {
     "name": "stdout",
     "output_type": "stream",
     "text": [
      "[1, 'n', 'o', 'h', 't', 'y', 'p']\n",
      "['p', 'y', 't', 'h', 'o', 'n', 1]\n",
      "['p', 't', 'o', 1]\n"
     ]
    }
   ],
   "source": [
    "list=['p','y','t','h','o','n',1]\n",
    "\n",
    "print(list[::-1])\n",
    "# its same as list[:] additional ':-1' specifies that the whole list is to be taken in reverse order\n",
    "\n",
    "print(list[::1])\n",
    "\n",
    "print(list[::2])\n",
    "\n",
    "# therefore the additional :n used here n specifies the step parameter -1 specifies reverse order 1 specifies forward "
   ]
  },
  {
   "cell_type": "markdown",
   "id": "987175c0",
   "metadata": {},
   "source": [
    "### Adding elements to list"
   ]
  },
  {
   "cell_type": "code",
   "execution_count": 13,
   "id": "3d0bad59",
   "metadata": {},
   "outputs": [
    {
     "name": "stdout",
     "output_type": "stream",
     "text": [
      "['p', 'y', 't', 'h', 'o', 'n', 1, 'Shivam']\n",
      "['p', 'y', 't', 'h', 'o', 'n', 1, 'Shivam', 'Python', 'is', 'best']\n",
      "['p', 'y', 't', 'h', 'o', 'n', 1, 'Shivam', 'Python', 'is', 'best', ['Python', 'is', 'best']]\n"
     ]
    }
   ],
   "source": [
    "list=['p','y','t','h','o','n',1]\n",
    "\n",
    "list.append('Shivam')\n",
    "print(list)\n",
    "\n",
    "# append is used to append specified element at the end of list\n",
    "\n",
    "list.extend(['Python', 'is', 'best'])\n",
    "print(list)\n",
    "\n",
    "# extend is used to append multiple elements at the end of list\n",
    "\n",
    "list.append(['Python', 'is', 'best'])\n",
    "print(list)"
   ]
  },
  {
   "cell_type": "markdown",
   "id": "1c4f1799",
   "metadata": {},
   "source": [
    "### Joining and combining Strings"
   ]
  }
 ],
 "metadata": {
  "kernelspec": {
   "display_name": "Python 3 (ipykernel)",
   "language": "python",
   "name": "python3"
  },
  "language_info": {
   "codemirror_mode": {
    "name": "ipython",
    "version": 3
   },
   "file_extension": ".py",
   "mimetype": "text/x-python",
   "name": "python",
   "nbconvert_exporter": "python",
   "pygments_lexer": "ipython3",
   "version": "3.9.12"
  }
 },
 "nbformat": 4,
 "nbformat_minor": 5
}
